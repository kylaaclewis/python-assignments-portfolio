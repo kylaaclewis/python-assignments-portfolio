{
 "cells": [
  {
   "cell_type": "code",
   "execution_count": 6,
   "id": "aef95471-b54a-4218-a896-7fb07eacc7e4",
   "metadata": {},
   "outputs": [
    {
     "name": "stdout",
     "output_type": "stream",
     "text": [
      "Please input your x value\n"
     ]
    },
    {
     "name": "stdin",
     "output_type": "stream",
     "text": [
      " .75\n"
     ]
    },
    {
     "name": "stdout",
     "output_type": "stream",
     "text": [
      "(0.6435394700943785, 11.0, 5.816761029294689e-05)\n"
     ]
    }
   ],
   "source": [
    "def arctan_approx():\n",
    "    print (\"Please input your x value\")\n",
    "    x = float(input())\n",
    "    ### takes in user input\n",
    "\n",
    "    while x<0 or x>1:\n",
    "        print (\"Error!\")\n",
    "        print (\"Please input your x value\")\n",
    "        x = float(input())\n",
    "    ### asses whether x is within the required range\n",
    "    ### if x isn't acceptable, another x is asked for\n",
    "\n",
    "    n = float(-1)\n",
    "    ### to account for the += 1 in the loop (without having to overcomplicate the loop)\n",
    "    error_bound = float(1)\n",
    "    ### any number above .0001 would work here\n",
    "    \n",
    "    while error_bound > .0001:\n",
    "        n += 1\n",
    "        error_bound = (x**(2*n+1))/(2*n+1)\n",
    "    ### this loop calculates the right side of the inequality\n",
    "\n",
    "    ### when the error_bound is less than \n",
    "    ### or equal to the maximum acceptable error,\n",
    "    ### the loop will break, leaving the appropriate n assignment\n",
    "\n",
    "    i = 0\n",
    "    a = float(0)\n",
    "\n",
    "    while (i != (n)) & (i < n):\n",
    "        a += (((-1)**i)*(x**(2*i+1)))/(2*i+1)\n",
    "        i += 1\n",
    "    ### this loop will calculate the left hand side of the uncertainty\n",
    "    ### (the aproxtimation of arctan(x))\n",
    "\n",
    "    output = (a, n, error_bound)\n",
    "    return(output)\n",
    "\n",
    "print(arctan_approx())"
   ]
  },
  {
   "cell_type": "code",
   "execution_count": null,
   "id": "ee40cc3d-7665-4155-878c-8b8689689a7a",
   "metadata": {},
   "outputs": [],
   "source": []
  }
 ],
 "metadata": {
  "kernelspec": {
   "display_name": "Python 3 (ipykernel)",
   "language": "python",
   "name": "python3"
  },
  "language_info": {
   "codemirror_mode": {
    "name": "ipython",
    "version": 3
   },
   "file_extension": ".py",
   "mimetype": "text/x-python",
   "name": "python",
   "nbconvert_exporter": "python",
   "pygments_lexer": "ipython3",
   "version": "3.11.4"
  }
 },
 "nbformat": 4,
 "nbformat_minor": 5
}
