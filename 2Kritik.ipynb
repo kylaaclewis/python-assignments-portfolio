{
 "cells": [
  {
   "cell_type": "code",
   "execution_count": 2,
   "id": "3fab7449-0358-4d13-952b-05e84d219186",
   "metadata": {},
   "outputs": [
    {
     "name": "stdout",
     "output_type": "stream",
     "text": [
      "24.744132758299504\n",
      "('root between ', 0.26987413756458245, ' and ', 0.26987413757913437)\n",
      "('root at ', 0)\n",
      "0.6743705704545571\n",
      "('root between ', 3.141592653642874, ' and ', 3.1415926535846666)\n"
     ]
    }
   ],
   "source": [
    "import math\n",
    "import numpy as np\n",
    "def roots (f,a,b):\n",
    "    if f(a) == \"invalid\":\n",
    "        a = a+0.0000000001\n",
    "    if f(b) == \"invalid\":\n",
    "        b = b+0.0000000001\n",
    "    if f(a)==0:\n",
    "        return (\"root at \", a)\n",
    "    elif f(b)==0:\n",
    "        return (\"root at \", b)\n",
    "\n",
    "    elif (a>0 and b<0) or (a<0 and b>0):\n",
    "        return (\"no roots!\")\n",
    "\n",
    "    else:\n",
    "        if f(b) > f(a):\n",
    "            L = a\n",
    "            H = b\n",
    "        else:\n",
    "            L = b\n",
    "            H = a\n",
    "    m = (L+H)/2\n",
    "    difference = f(H)-f(L)\n",
    "    print(difference)\n",
    "    while difference > 0.0000000001:         \n",
    "        if f(m) < 0:\n",
    "            L = m\n",
    "        elif f(m) > 0:\n",
    "            H = m\n",
    "        else:\n",
    "            return (\"root at \", round(m,10))\n",
    "        difference = abs(f(H)-f(L))\n",
    "        m = (L+H)/2\n",
    "        \n",
    "    return (\"root between \", L , \" and \", H)\n",
    "\n",
    "def func1(x):\n",
    "    if x == 0:\n",
    "        return \"invalid\"\n",
    "    return np.exp(x) + math.log(x)\n",
    "    \n",
    "print(roots (func1,0,1))\n",
    "\n",
    "def func2(x):\n",
    "   return math.atan(x) - x**2\n",
    "    \n",
    "print(roots (func2,0,2))\n",
    "\n",
    "def func3(x):\n",
    "    return (math.sin(x))/(math.log(x))\n",
    "\n",
    "print(roots (func3,3,4))"
   ]
  },
  {
   "cell_type": "code",
   "execution_count": null,
   "id": "587a5586-52ef-4bae-8822-662e7423fb6d",
   "metadata": {},
   "outputs": [],
   "source": []
  }
 ],
 "metadata": {
  "kernelspec": {
   "display_name": "Python 3 (ipykernel)",
   "language": "python",
   "name": "python3"
  },
  "language_info": {
   "codemirror_mode": {
    "name": "ipython",
    "version": 3
   },
   "file_extension": ".py",
   "mimetype": "text/x-python",
   "name": "python",
   "nbconvert_exporter": "python",
   "pygments_lexer": "ipython3",
   "version": "3.11.4"
  }
 },
 "nbformat": 4,
 "nbformat_minor": 5
}
