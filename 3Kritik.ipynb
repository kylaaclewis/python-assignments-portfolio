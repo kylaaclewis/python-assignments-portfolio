{
 "cells": [
  {
   "cell_type": "code",
   "execution_count": 14,
   "id": "ff2100cb-d99d-40cf-81a8-c10996cc55be",
   "metadata": {},
   "outputs": [
    {
     "name": "stdout",
     "output_type": "stream",
     "text": [
      "x1 =  -0.001\n",
      "x2 =  0.001\n",
      "difference =  4.998272976619589e-07\n",
      "difference =  5.001727858555682e-07\n"
     ]
    }
   ],
   "source": [
    "import numpy as np\n",
    "\n",
    "def coolProgram(func, c, E):\n",
    "    \n",
    "    deltaX =  10**-8\n",
    "    \n",
    "    def funcPrime(func, x, deltaX):\n",
    "        return (func(x + deltaX) - func(x - deltaX)) / (2*deltaX)\n",
    "\n",
    "    def linApprox(func, funcPrime, x, c):\n",
    "        return func(c) + funcPrime(func, c, deltaX)*(x-c)\n",
    "\n",
    "    #for x1:\n",
    "    x1 = c\n",
    "    x2 = c\n",
    "    for i in range(0,100):\n",
    "        x1 -=0.001\n",
    "        if abs(func(x1)-linApprox(func, funcPrime, x1, c)) <= E:\n",
    "            print (\"x1 = \", x1)\n",
    "            break\n",
    "    if abs(func(x1)-linApprox(func, funcPrime, x1, c)) > E:\n",
    "        print (\"x1 not found!\")\n",
    "\n",
    "    for i in range(0,100):\n",
    "        x2 +=0.001\n",
    "        if abs(func(x2)-linApprox(func, funcPrime, x2, c)) <= E:\n",
    "            print (\"x2 = \", x2)\n",
    "            break\n",
    "    if abs(func(x2)-linApprox(func, funcPrime, x2, c)) > E:\n",
    "        print (\"x2 not found!\")\n",
    "        \n",
    "    print(\"difference = \", abs(func(x1)-linApprox(func, funcPrime, x1, c)))\n",
    "    print(\"difference = \", abs(func(x2)-linApprox(func, funcPrime, x2, c)))\n",
    "    \n",
    "#will change depending on function and parameters:\n",
    "def func(x):\n",
    "    return np.exp(x)\n",
    "c = 0\n",
    "E = 0.01\n",
    "\n",
    "coolProgram(func,c,E)\n",
    "\n",
    "\n",
    "\n"
   ]
  },
  {
   "cell_type": "code",
   "execution_count": null,
   "id": "c63c10fa-237d-4cca-bd0e-4fc6d3bdd3ec",
   "metadata": {},
   "outputs": [],
   "source": []
  }
 ],
 "metadata": {
  "kernelspec": {
   "display_name": "Python 3 (ipykernel)",
   "language": "python",
   "name": "python3"
  },
  "language_info": {
   "codemirror_mode": {
    "name": "ipython",
    "version": 3
   },
   "file_extension": ".py",
   "mimetype": "text/x-python",
   "name": "python",
   "nbconvert_exporter": "python",
   "pygments_lexer": "ipython3",
   "version": "3.11.4"
  }
 },
 "nbformat": 4,
 "nbformat_minor": 5
}
